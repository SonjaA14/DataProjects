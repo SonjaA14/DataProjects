{
  "nbformat": 4,
  "nbformat_minor": 0,
  "metadata": {
    "colab": {
      "name": "ML_Uebung1_2_Nutrients",
      "provenance": [],
      "collapsed_sections": []
    },
    "kernelspec": {
      "name": "python3",
      "display_name": "Python 3"
    }
  },
  "cells": [
    {
      "cell_type": "markdown",
      "metadata": {
        "id": "dxJLEXHbFvbG"
      },
      "source": [
        "# **Übung 1_2: Datenvorverarbeitung mit Pandas: Food Nutrient Database**\n",
        "based on the nutrients database of the U.S. Department of Agriculture"
      ]
    },
    {
      "cell_type": "code",
      "metadata": {
        "id": "F1-alaf5YfIT",
        "colab": {
          "base_uri": "https://localhost:8080/",
          "height": 34
        },
        "outputId": "cbfaebcd-d5c2-472c-9eae-a312f8a5d09f"
      },
      "source": [
        "from google.colab import drive\n",
        "drive.mount('/content/drive')"
      ],
      "execution_count": null,
      "outputs": [
        {
          "output_type": "stream",
          "text": [
            "Mounted at /content/drive\n"
          ],
          "name": "stdout"
        }
      ]
    },
    {
      "cell_type": "code",
      "metadata": {
        "id": "Dy0z02ZwF31N"
      },
      "source": [
        "import pandas as pd\n",
        "import numpy as np\n",
        "import json\n",
        "import zipfile"
      ],
      "execution_count": null,
      "outputs": []
    },
    {
      "cell_type": "code",
      "metadata": {
        "id": "kmq8dYvvF_-K",
        "colab": {
          "base_uri": "https://localhost:8080/",
          "height": 34
        },
        "outputId": "41a796db-b032-4efc-9600-44c6d180e1f3"
      },
      "source": [
        "d = None  \n",
        "data = None  \n",
        "with zipfile.ZipFile(\"/content/drive/My Drive/Maschinelles Lernen/Übungen/foods-2011-10-03.json.zip\", \"r\") as z:\n",
        "   for filename in z.namelist():  \n",
        "      print(filename)  \n",
        "      with z.open(filename) as f:  \n",
        "         #data = f.read()  \n",
        "         d = json.load(f)"
      ],
      "execution_count": null,
      "outputs": [
        {
          "output_type": "stream",
          "text": [
            "foods-2011-10-03.json\n"
          ],
          "name": "stdout"
        }
      ]
    },
    {
      "cell_type": "code",
      "metadata": {
        "id": "7kAWndo7hsDq",
        "colab": {
          "base_uri": "https://localhost:8080/",
          "height": 34
        },
        "outputId": "b8b1ec1b-6e13-4804-c509-5751732948fb"
      },
      "source": [
        "np.shape(d)"
      ],
      "execution_count": null,
      "outputs": [
        {
          "output_type": "execute_result",
          "data": {
            "text/plain": [
              "(6636,)"
            ]
          },
          "metadata": {
            "tags": []
          },
          "execution_count": 4
        }
      ]
    },
    {
      "cell_type": "markdown",
      "metadata": {
        "id": "h7rIGIGgO0Ye"
      },
      "source": [
        "Greifen Sie sich ein beliebiges\n",
        "Nahrungsmittel heraus und lassen sich die Namen der Einträge mit der Methode dict.keys()\n",
        "anzeigen. "
      ]
    },
    {
      "cell_type": "code",
      "metadata": {
        "id": "jXvobSopdx3f",
        "colab": {
          "base_uri": "https://localhost:8080/",
          "height": 185
        },
        "outputId": "94af68d6-77ce-4482-e0b0-419a68ce5fab"
      },
      "source": [
        "for i in range(10):\n",
        "  print(d[i]['nutrients'][0])"
      ],
      "execution_count": null,
      "outputs": [
        {
          "output_type": "stream",
          "text": [
            "{'value': 25.18, 'units': 'g', 'description': 'Protein', 'group': 'Composition'}\n",
            "{'value': 24.9, 'units': 'g', 'description': 'Protein', 'group': 'Composition'}\n",
            "{'value': 4.22, 'units': 'g', 'description': 'Ash', 'group': 'Other'}\n",
            "{'value': 5.2, 'units': 'g', 'description': 'Ash', 'group': 'Other'}\n",
            "{'value': 3.27, 'units': 'g', 'description': 'Ash', 'group': 'Other'}\n",
            "{'value': 3.72, 'units': 'g', 'description': 'Ash', 'group': 'Other'}\n",
            "{'value': 31.8, 'units': 'g', 'description': 'Protein', 'group': 'Composition'}\n",
            "{'value': 21.54, 'units': 'g', 'description': 'Protein', 'group': 'Composition'}\n",
            "{'value': 16.41, 'units': 'g', 'description': 'Protein', 'group': 'Composition'}\n",
            "{'value': 2.96, 'units': 'g', 'description': 'Protein', 'group': 'Composition'}\n"
          ],
          "name": "stdout"
        }
      ]
    },
    {
      "cell_type": "code",
      "metadata": {
        "id": "qgLekaszf32C",
        "colab": {
          "base_uri": "https://localhost:8080/",
          "height": 84
        },
        "outputId": "1ad9abb3-e4db-4578-bc41-d8ad1a6f5504"
      },
      "source": [
        "d[0]['nutrients'][0]"
      ],
      "execution_count": null,
      "outputs": [
        {
          "output_type": "execute_result",
          "data": {
            "text/plain": [
              "{'description': 'Protein',\n",
              " 'group': 'Composition',\n",
              " 'units': 'g',\n",
              " 'value': 25.18}"
            ]
          },
          "metadata": {
            "tags": []
          },
          "execution_count": 6
        }
      ]
    },
    {
      "cell_type": "markdown",
      "metadata": {
        "id": "evLdj0f2jYJl"
      },
      "source": [
        "Kopieren Sie zunächst die Felder ’description’,’group’,’id’,’manufacturer’ in\n",
        "einen eigenen DataFrame info"
      ]
    },
    {
      "cell_type": "code",
      "metadata": {
        "id": "Mj6ve_eVoY6z",
        "colab": {
          "base_uri": "https://localhost:8080/",
          "height": 402
        },
        "outputId": "49bae2f2-aa6f-4f71-e1cd-bd1582ac3bd0"
      },
      "source": [
        "info=pd.DataFrame(d, columns=['description', 'id', 'group', 'manufacturer'])\n",
        "info"
      ],
      "execution_count": null,
      "outputs": [
        {
          "output_type": "execute_result",
          "data": {
            "text/html": [
              "<div>\n",
              "<style scoped>\n",
              "    .dataframe tbody tr th:only-of-type {\n",
              "        vertical-align: middle;\n",
              "    }\n",
              "\n",
              "    .dataframe tbody tr th {\n",
              "        vertical-align: top;\n",
              "    }\n",
              "\n",
              "    .dataframe thead th {\n",
              "        text-align: right;\n",
              "    }\n",
              "</style>\n",
              "<table border=\"1\" class=\"dataframe\">\n",
              "  <thead>\n",
              "    <tr style=\"text-align: right;\">\n",
              "      <th></th>\n",
              "      <th>description</th>\n",
              "      <th>id</th>\n",
              "      <th>group</th>\n",
              "      <th>manufacturer</th>\n",
              "    </tr>\n",
              "  </thead>\n",
              "  <tbody>\n",
              "    <tr>\n",
              "      <th>0</th>\n",
              "      <td>Cheese, caraway</td>\n",
              "      <td>1008</td>\n",
              "      <td>Dairy and Egg Products</td>\n",
              "      <td></td>\n",
              "    </tr>\n",
              "    <tr>\n",
              "      <th>1</th>\n",
              "      <td>Cheese, cheddar</td>\n",
              "      <td>1009</td>\n",
              "      <td>Dairy and Egg Products</td>\n",
              "      <td></td>\n",
              "    </tr>\n",
              "    <tr>\n",
              "      <th>2</th>\n",
              "      <td>Cheese, edam</td>\n",
              "      <td>1018</td>\n",
              "      <td>Dairy and Egg Products</td>\n",
              "      <td></td>\n",
              "    </tr>\n",
              "    <tr>\n",
              "      <th>3</th>\n",
              "      <td>Cheese, feta</td>\n",
              "      <td>1019</td>\n",
              "      <td>Dairy and Egg Products</td>\n",
              "      <td></td>\n",
              "    </tr>\n",
              "    <tr>\n",
              "      <th>4</th>\n",
              "      <td>Cheese, mozzarella, part skim milk</td>\n",
              "      <td>1028</td>\n",
              "      <td>Dairy and Egg Products</td>\n",
              "      <td></td>\n",
              "    </tr>\n",
              "    <tr>\n",
              "      <th>...</th>\n",
              "      <td>...</td>\n",
              "      <td>...</td>\n",
              "      <td>...</td>\n",
              "      <td>...</td>\n",
              "    </tr>\n",
              "    <tr>\n",
              "      <th>6631</th>\n",
              "      <td>Bologna, beef, low fat</td>\n",
              "      <td>42161</td>\n",
              "      <td>Sausages and Luncheon Meats</td>\n",
              "      <td></td>\n",
              "    </tr>\n",
              "    <tr>\n",
              "      <th>6632</th>\n",
              "      <td>Turkey and pork sausage, fresh, bulk, patty or...</td>\n",
              "      <td>42173</td>\n",
              "      <td>Sausages and Luncheon Meats</td>\n",
              "      <td></td>\n",
              "    </tr>\n",
              "    <tr>\n",
              "      <th>6633</th>\n",
              "      <td>Babyfood, juice, pear</td>\n",
              "      <td>43408</td>\n",
              "      <td>Baby Foods</td>\n",
              "      <td>None</td>\n",
              "    </tr>\n",
              "    <tr>\n",
              "      <th>6634</th>\n",
              "      <td>Babyfood, dessert, banana yogurt, strained</td>\n",
              "      <td>43539</td>\n",
              "      <td>Baby Foods</td>\n",
              "      <td>None</td>\n",
              "    </tr>\n",
              "    <tr>\n",
              "      <th>6635</th>\n",
              "      <td>Babyfood, banana no tapioca, strained</td>\n",
              "      <td>43546</td>\n",
              "      <td>Baby Foods</td>\n",
              "      <td>None</td>\n",
              "    </tr>\n",
              "  </tbody>\n",
              "</table>\n",
              "<p>6636 rows × 4 columns</p>\n",
              "</div>"
            ],
            "text/plain": [
              "                                            description  ...  manufacturer\n",
              "0                                       Cheese, caraway  ...              \n",
              "1                                       Cheese, cheddar  ...              \n",
              "2                                          Cheese, edam  ...              \n",
              "3                                          Cheese, feta  ...              \n",
              "4                    Cheese, mozzarella, part skim milk  ...              \n",
              "...                                                 ...  ...           ...\n",
              "6631                             Bologna, beef, low fat  ...              \n",
              "6632  Turkey and pork sausage, fresh, bulk, patty or...  ...              \n",
              "6633                              Babyfood, juice, pear  ...          None\n",
              "6634         Babyfood, dessert, banana yogurt, strained  ...          None\n",
              "6635              Babyfood, banana no tapioca, strained  ...          None\n",
              "\n",
              "[6636 rows x 4 columns]"
            ]
          },
          "metadata": {
            "tags": []
          },
          "execution_count": 7
        }
      ]
    },
    {
      "cell_type": "markdown",
      "metadata": {
        "id": "tvBGTPS7jdPY"
      },
      "source": [
        "Alle Nährstofflisten in ein Array von DataFrames,\n",
        "wobei Sie an jeden DataFrame die entsprechende ID des Nahrungsmittels als eigene\n",
        "Spalte anhängen."
      ]
    },
    {
      "cell_type": "markdown",
      "metadata": {
        "id": "lN_G1SMji6YL"
      },
      "source": [
        "Version1: id als Zeile an DataFrame angehängt"
      ]
    },
    {
      "cell_type": "code",
      "metadata": {
        "id": "Uluc0dcs13TV"
      },
      "source": [
        "Array1=[]\n",
        "for i in np.arange(len(d)):\n",
        "  naehrstoffe=pd.DataFrame(d[i]['nutrients'])\n",
        "  id=d[i]['id']\n",
        "  naehrstoffe['id']=id\n",
        "  Array1.append([pd.DataFrame(naehrstoffe)])"
      ],
      "execution_count": null,
      "outputs": []
    },
    {
      "cell_type": "code",
      "metadata": {
        "id": "SeDd4m1cfY87",
        "colab": {
          "base_uri": "https://localhost:8080/",
          "height": 252
        },
        "outputId": "76a19828-0b4d-496f-90fa-3640d4f7e05a"
      },
      "source": [
        "Array1[1]"
      ],
      "execution_count": null,
      "outputs": [
        {
          "output_type": "execute_result",
          "data": {
            "text/plain": [
              "[       value units                         description        group    id\n",
              " 0     24.900     g                             Protein  Composition  1009\n",
              " 1     33.140     g                   Total lipid (fat)  Composition  1009\n",
              " 2      1.280     g         Carbohydrate, by difference  Composition  1009\n",
              " 3      3.930     g                                 Ash        Other  1009\n",
              " 4    403.000  kcal                              Energy       Energy  1009\n",
              " ..       ...   ...                                 ...          ...   ...\n",
              " 232    0.000   mcg                 Vitamin B-12, added     Vitamins  1009\n",
              " 233  105.000    mg                         Cholesterol        Other  1009\n",
              " 234   21.092     g        Fatty acids, total saturated        Other  1009\n",
              " 235    9.391     g  Fatty acids, total monounsaturated        Other  1009\n",
              " 236    0.942     g  Fatty acids, total polyunsaturated        Other  1009\n",
              " \n",
              " [237 rows x 5 columns]]"
            ]
          },
          "metadata": {
            "tags": []
          },
          "execution_count": 10
        }
      ]
    },
    {
      "cell_type": "markdown",
      "metadata": {
        "id": "rkhO-ugmjEab"
      },
      "source": [
        "Version2: id als einzelnes Element in Array"
      ]
    },
    {
      "cell_type": "code",
      "metadata": {
        "id": "twztZrRnjIsC"
      },
      "source": [
        "Array2=[]\n",
        "for i in np.arange(len(d)):\n",
        "  naehrstoffe=pd.DataFrame(d[i]['nutrients'])\n",
        "  id=d[i]['id']\n",
        "  Array2.append([id, naehrstoffe])"
      ],
      "execution_count": null,
      "outputs": []
    },
    {
      "cell_type": "code",
      "metadata": {
        "id": "yfsy0dbcfdNd",
        "colab": {
          "base_uri": "https://localhost:8080/",
          "height": 252
        },
        "outputId": "9b1932ce-2c72-446b-c899-84926595ae18"
      },
      "source": [
        "Array2[0]"
      ],
      "execution_count": null,
      "outputs": [
        {
          "output_type": "execute_result",
          "data": {
            "text/plain": [
              "[1008,        value units                         description        group\n",
              " 0     25.180     g                             Protein  Composition\n",
              " 1     29.200     g                   Total lipid (fat)  Composition\n",
              " 2      3.060     g         Carbohydrate, by difference  Composition\n",
              " 3      3.280     g                                 Ash        Other\n",
              " 4    376.000  kcal                              Energy       Energy\n",
              " ..       ...   ...                                 ...          ...\n",
              " 157    1.472     g                              Serine  Amino Acids\n",
              " 158   93.000    mg                         Cholesterol        Other\n",
              " 159   18.584     g        Fatty acids, total saturated        Other\n",
              " 160    8.275     g  Fatty acids, total monounsaturated        Other\n",
              " 161    0.830     g  Fatty acids, total polyunsaturated        Other\n",
              " \n",
              " [162 rows x 4 columns]]"
            ]
          },
          "metadata": {
            "tags": []
          },
          "execution_count": 12
        }
      ]
    },
    {
      "cell_type": "markdown",
      "metadata": {
        "id": "bA8rcz3IjhxU"
      },
      "source": [
        "Dieses Array wird mithilfe der Funktion pandas.concat() zu einem großen DataFrame\n",
        "nutrients (389355 Einträge) vereinigt."
      ]
    },
    {
      "cell_type": "code",
      "metadata": {
        "id": "BgWCWJIqjPOf"
      },
      "source": [
        "nutrients=pd.DataFrame(columns=['value', 'units', 'description', 'group', 'id'])\n",
        "for i in np.arange(len(Array1)):\n",
        "  for element in Array1[i]:\n",
        "    nutrients=pd.concat([nutrients, element])"
      ],
      "execution_count": null,
      "outputs": []
    },
    {
      "cell_type": "code",
      "metadata": {
        "id": "8PRHDUWCkg4d",
        "colab": {
          "base_uri": "https://localhost:8080/",
          "height": 402
        },
        "outputId": "424feb58-a885-4c75-8f21-a84e39b3ffeb"
      },
      "source": [
        "nutrients"
      ],
      "execution_count": null,
      "outputs": [
        {
          "output_type": "execute_result",
          "data": {
            "text/html": [
              "<div>\n",
              "<style scoped>\n",
              "    .dataframe tbody tr th:only-of-type {\n",
              "        vertical-align: middle;\n",
              "    }\n",
              "\n",
              "    .dataframe tbody tr th {\n",
              "        vertical-align: top;\n",
              "    }\n",
              "\n",
              "    .dataframe thead th {\n",
              "        text-align: right;\n",
              "    }\n",
              "</style>\n",
              "<table border=\"1\" class=\"dataframe\">\n",
              "  <thead>\n",
              "    <tr style=\"text-align: right;\">\n",
              "      <th></th>\n",
              "      <th>value</th>\n",
              "      <th>units</th>\n",
              "      <th>description</th>\n",
              "      <th>group</th>\n",
              "      <th>id</th>\n",
              "    </tr>\n",
              "  </thead>\n",
              "  <tbody>\n",
              "    <tr>\n",
              "      <th>0</th>\n",
              "      <td>25.180</td>\n",
              "      <td>g</td>\n",
              "      <td>Protein</td>\n",
              "      <td>Composition</td>\n",
              "      <td>1008</td>\n",
              "    </tr>\n",
              "    <tr>\n",
              "      <th>1</th>\n",
              "      <td>29.200</td>\n",
              "      <td>g</td>\n",
              "      <td>Total lipid (fat)</td>\n",
              "      <td>Composition</td>\n",
              "      <td>1008</td>\n",
              "    </tr>\n",
              "    <tr>\n",
              "      <th>2</th>\n",
              "      <td>3.060</td>\n",
              "      <td>g</td>\n",
              "      <td>Carbohydrate, by difference</td>\n",
              "      <td>Composition</td>\n",
              "      <td>1008</td>\n",
              "    </tr>\n",
              "    <tr>\n",
              "      <th>3</th>\n",
              "      <td>3.280</td>\n",
              "      <td>g</td>\n",
              "      <td>Ash</td>\n",
              "      <td>Other</td>\n",
              "      <td>1008</td>\n",
              "    </tr>\n",
              "    <tr>\n",
              "      <th>4</th>\n",
              "      <td>376.000</td>\n",
              "      <td>kcal</td>\n",
              "      <td>Energy</td>\n",
              "      <td>Energy</td>\n",
              "      <td>1008</td>\n",
              "    </tr>\n",
              "    <tr>\n",
              "      <th>...</th>\n",
              "      <td>...</td>\n",
              "      <td>...</td>\n",
              "      <td>...</td>\n",
              "      <td>...</td>\n",
              "      <td>...</td>\n",
              "    </tr>\n",
              "    <tr>\n",
              "      <th>45</th>\n",
              "      <td>0.000</td>\n",
              "      <td>mcg</td>\n",
              "      <td>Vitamin B-12, added</td>\n",
              "      <td>Vitamins</td>\n",
              "      <td>43546</td>\n",
              "    </tr>\n",
              "    <tr>\n",
              "      <th>46</th>\n",
              "      <td>0.000</td>\n",
              "      <td>mg</td>\n",
              "      <td>Cholesterol</td>\n",
              "      <td>Other</td>\n",
              "      <td>43546</td>\n",
              "    </tr>\n",
              "    <tr>\n",
              "      <th>47</th>\n",
              "      <td>0.072</td>\n",
              "      <td>g</td>\n",
              "      <td>Fatty acids, total saturated</td>\n",
              "      <td>Other</td>\n",
              "      <td>43546</td>\n",
              "    </tr>\n",
              "    <tr>\n",
              "      <th>48</th>\n",
              "      <td>0.028</td>\n",
              "      <td>g</td>\n",
              "      <td>Fatty acids, total monounsaturated</td>\n",
              "      <td>Other</td>\n",
              "      <td>43546</td>\n",
              "    </tr>\n",
              "    <tr>\n",
              "      <th>49</th>\n",
              "      <td>0.041</td>\n",
              "      <td>g</td>\n",
              "      <td>Fatty acids, total polyunsaturated</td>\n",
              "      <td>Other</td>\n",
              "      <td>43546</td>\n",
              "    </tr>\n",
              "  </tbody>\n",
              "</table>\n",
              "<p>389355 rows × 5 columns</p>\n",
              "</div>"
            ],
            "text/plain": [
              "      value units                         description        group     id\n",
              "0    25.180     g                             Protein  Composition   1008\n",
              "1    29.200     g                   Total lipid (fat)  Composition   1008\n",
              "2     3.060     g         Carbohydrate, by difference  Composition   1008\n",
              "3     3.280     g                                 Ash        Other   1008\n",
              "4   376.000  kcal                              Energy       Energy   1008\n",
              "..      ...   ...                                 ...          ...    ...\n",
              "45    0.000   mcg                 Vitamin B-12, added     Vitamins  43546\n",
              "46    0.000    mg                         Cholesterol        Other  43546\n",
              "47    0.072     g        Fatty acids, total saturated        Other  43546\n",
              "48    0.028     g  Fatty acids, total monounsaturated        Other  43546\n",
              "49    0.041     g  Fatty acids, total polyunsaturated        Other  43546\n",
              "\n",
              "[389355 rows x 5 columns]"
            ]
          },
          "metadata": {
            "tags": []
          },
          "execution_count": 21
        }
      ]
    },
    {
      "cell_type": "markdown",
      "metadata": {
        "id": "pYidGOUewDRk"
      },
      "source": [
        "Entfernen Sie alle Duplikate aus diesem DataFrame."
      ]
    },
    {
      "cell_type": "code",
      "metadata": {
        "id": "jUeC7t7VrGee",
        "colab": {
          "base_uri": "https://localhost:8080/",
          "height": 34
        },
        "outputId": "8823a460-ed26-438d-ee6e-1e8ecd6b3ffe"
      },
      "source": [
        "print(nutrients.duplicated().any())\n",
        "nutrients=nutrients.drop_duplicates()"
      ],
      "execution_count": null,
      "outputs": [
        {
          "output_type": "stream",
          "text": [
            "True\n"
          ],
          "name": "stdout"
        }
      ]
    },
    {
      "cell_type": "markdown",
      "metadata": {
        "id": "eqf4EaUAwBPm"
      },
      "source": [
        "Bevor beide DataFrames vereinigt werden können, gibt es noch ein Problem: beide\n",
        "enthalten Felder mit dem Namen ’description’ und ’group’ (s.o.). Benennen Sie\n",
        "diese daher mithilfe von DataFrame.rename() in eindeutige Namen um."
      ]
    },
    {
      "cell_type": "code",
      "metadata": {
        "id": "1l6pCUKQvade"
      },
      "source": [
        "nutrients=nutrients.rename(columns={'description' : 'n_description', 'group' : 'n_group'})"
      ],
      "execution_count": null,
      "outputs": []
    },
    {
      "cell_type": "markdown",
      "metadata": {
        "id": "EwyqCFINwGbg"
      },
      "source": [
        "Vereinigen Sie beide DataFrames anhand der Nahrungsmittel-ID."
      ]
    },
    {
      "cell_type": "code",
      "metadata": {
        "id": "1GoM5uf3v2ZO"
      },
      "source": [
        "infoExtended=pd.merge(nutrients, info, on='id', how='outer')"
      ],
      "execution_count": null,
      "outputs": []
    },
    {
      "cell_type": "markdown",
      "metadata": {
        "id": "MIGr9HxvwmKr"
      },
      "source": [
        "Lesen Sie dazu alle Tabelleneinträge mithilfe einer geeigneten Indizierung\n",
        "in einen DataFrame aus, der nur Einträge zum Nährstoff Zink enthält."
      ]
    },
    {
      "cell_type": "code",
      "metadata": {
        "id": "zuHLVFufwet4"
      },
      "source": [
        "zink=infoExtended.loc[(infoExtended['n_description'] == 'Zinc, Zn')]"
      ],
      "execution_count": null,
      "outputs": []
    },
    {
      "cell_type": "code",
      "metadata": {
        "id": "SgNxLd0Swg9Z",
        "colab": {
          "base_uri": "https://localhost:8080/",
          "height": 402
        },
        "outputId": "b2f56bdf-1f0f-41c2-af48-28e9d18eb7b7"
      },
      "source": [
        "zink"
      ],
      "execution_count": null,
      "outputs": [
        {
          "output_type": "execute_result",
          "data": {
            "text/html": [
              "<div>\n",
              "<style scoped>\n",
              "    .dataframe tbody tr th:only-of-type {\n",
              "        vertical-align: middle;\n",
              "    }\n",
              "\n",
              "    .dataframe tbody tr th {\n",
              "        vertical-align: top;\n",
              "    }\n",
              "\n",
              "    .dataframe thead th {\n",
              "        text-align: right;\n",
              "    }\n",
              "</style>\n",
              "<table border=\"1\" class=\"dataframe\">\n",
              "  <thead>\n",
              "    <tr style=\"text-align: right;\">\n",
              "      <th></th>\n",
              "      <th>value</th>\n",
              "      <th>units</th>\n",
              "      <th>n_description</th>\n",
              "      <th>n_group</th>\n",
              "      <th>id</th>\n",
              "      <th>description</th>\n",
              "      <th>group</th>\n",
              "      <th>manufacturer</th>\n",
              "    </tr>\n",
              "  </thead>\n",
              "  <tbody>\n",
              "    <tr>\n",
              "      <th>14</th>\n",
              "      <td>2.94</td>\n",
              "      <td>mg</td>\n",
              "      <td>Zinc, Zn</td>\n",
              "      <td>Elements</td>\n",
              "      <td>1008</td>\n",
              "      <td>Cheese, caraway</td>\n",
              "      <td>Dairy and Egg Products</td>\n",
              "      <td></td>\n",
              "    </tr>\n",
              "    <tr>\n",
              "      <th>75</th>\n",
              "      <td>3.11</td>\n",
              "      <td>mg</td>\n",
              "      <td>Zinc, Zn</td>\n",
              "      <td>Elements</td>\n",
              "      <td>1009</td>\n",
              "      <td>Cheese, cheddar</td>\n",
              "      <td>Dairy and Egg Products</td>\n",
              "      <td></td>\n",
              "    </tr>\n",
              "    <tr>\n",
              "      <th>151</th>\n",
              "      <td>3.75</td>\n",
              "      <td>mg</td>\n",
              "      <td>Zinc, Zn</td>\n",
              "      <td>Elements</td>\n",
              "      <td>1018</td>\n",
              "      <td>Cheese, edam</td>\n",
              "      <td>Dairy and Egg Products</td>\n",
              "      <td></td>\n",
              "    </tr>\n",
              "    <tr>\n",
              "      <th>222</th>\n",
              "      <td>2.88</td>\n",
              "      <td>mg</td>\n",
              "      <td>Zinc, Zn</td>\n",
              "      <td>Elements</td>\n",
              "      <td>1019</td>\n",
              "      <td>Cheese, feta</td>\n",
              "      <td>Dairy and Egg Products</td>\n",
              "      <td></td>\n",
              "    </tr>\n",
              "    <tr>\n",
              "      <th>293</th>\n",
              "      <td>2.76</td>\n",
              "      <td>mg</td>\n",
              "      <td>Zinc, Zn</td>\n",
              "      <td>Elements</td>\n",
              "      <td>1028</td>\n",
              "      <td>Cheese, mozzarella, part skim milk</td>\n",
              "      <td>Dairy and Egg Products</td>\n",
              "      <td></td>\n",
              "    </tr>\n",
              "    <tr>\n",
              "      <th>...</th>\n",
              "      <td>...</td>\n",
              "      <td>...</td>\n",
              "      <td>...</td>\n",
              "      <td>...</td>\n",
              "      <td>...</td>\n",
              "      <td>...</td>\n",
              "      <td>...</td>\n",
              "      <td>...</td>\n",
              "    </tr>\n",
              "    <tr>\n",
              "      <th>374940</th>\n",
              "      <td>1.83</td>\n",
              "      <td>mg</td>\n",
              "      <td>Zinc, Zn</td>\n",
              "      <td>Elements</td>\n",
              "      <td>42161</td>\n",
              "      <td>Bologna, beef, low fat</td>\n",
              "      <td>Sausages and Luncheon Meats</td>\n",
              "      <td></td>\n",
              "    </tr>\n",
              "    <tr>\n",
              "      <th>374991</th>\n",
              "      <td>3.17</td>\n",
              "      <td>mg</td>\n",
              "      <td>Zinc, Zn</td>\n",
              "      <td>Elements</td>\n",
              "      <td>42173</td>\n",
              "      <td>Turkey and pork sausage, fresh, bulk, patty or...</td>\n",
              "      <td>Sausages and Luncheon Meats</td>\n",
              "      <td></td>\n",
              "    </tr>\n",
              "    <tr>\n",
              "      <th>375043</th>\n",
              "      <td>0.08</td>\n",
              "      <td>mg</td>\n",
              "      <td>Zinc, Zn</td>\n",
              "      <td>Elements</td>\n",
              "      <td>43408</td>\n",
              "      <td>Babyfood, juice, pear</td>\n",
              "      <td>Baby Foods</td>\n",
              "      <td>None</td>\n",
              "    </tr>\n",
              "    <tr>\n",
              "      <th>375093</th>\n",
              "      <td>0.26</td>\n",
              "      <td>mg</td>\n",
              "      <td>Zinc, Zn</td>\n",
              "      <td>Elements</td>\n",
              "      <td>43539</td>\n",
              "      <td>Babyfood, dessert, banana yogurt, strained</td>\n",
              "      <td>Baby Foods</td>\n",
              "      <td>None</td>\n",
              "    </tr>\n",
              "    <tr>\n",
              "      <th>375144</th>\n",
              "      <td>0.05</td>\n",
              "      <td>mg</td>\n",
              "      <td>Zinc, Zn</td>\n",
              "      <td>Elements</td>\n",
              "      <td>43546</td>\n",
              "      <td>Babyfood, banana no tapioca, strained</td>\n",
              "      <td>Baby Foods</td>\n",
              "      <td>None</td>\n",
              "    </tr>\n",
              "  </tbody>\n",
              "</table>\n",
              "<p>6137 rows × 8 columns</p>\n",
              "</div>"
            ],
            "text/plain": [
              "        value units  ...                        group manufacturer\n",
              "14       2.94    mg  ...       Dairy and Egg Products             \n",
              "75       3.11    mg  ...       Dairy and Egg Products             \n",
              "151      3.75    mg  ...       Dairy and Egg Products             \n",
              "222      2.88    mg  ...       Dairy and Egg Products             \n",
              "293      2.76    mg  ...       Dairy and Egg Products             \n",
              "...       ...   ...  ...                          ...          ...\n",
              "374940   1.83    mg  ...  Sausages and Luncheon Meats             \n",
              "374991   3.17    mg  ...  Sausages and Luncheon Meats             \n",
              "375043   0.08    mg  ...                   Baby Foods         None\n",
              "375093   0.26    mg  ...                   Baby Foods         None\n",
              "375144   0.05    mg  ...                   Baby Foods         None\n",
              "\n",
              "[6137 rows x 8 columns]"
            ]
          },
          "metadata": {
            "tags": []
          },
          "execution_count": 36
        }
      ]
    },
    {
      "cell_type": "markdown",
      "metadata": {
        "id": "GLrz8htdxsH5"
      },
      "source": [
        "Daraus wählen\n",
        "Sie wiederum die Spalte mit dem Zinkgehalt in mg (’value’) aus und stellen dafür ein\n",
        "Histogramm und eine Liste deskriptiver Statistiken dar."
      ]
    },
    {
      "cell_type": "code",
      "metadata": {
        "id": "3l6y5FYbxde1"
      },
      "source": [
        "value=pd.DataFrame(zink['value'])"
      ],
      "execution_count": null,
      "outputs": []
    },
    {
      "cell_type": "code",
      "metadata": {
        "id": "U9k70ZGpx3ms",
        "colab": {
          "base_uri": "https://localhost:8080/",
          "height": 284
        },
        "outputId": "d455b8f6-e7e0-456a-ad76-a2b61f37ec98"
      },
      "source": [
        "value.describe()"
      ],
      "execution_count": null,
      "outputs": [
        {
          "output_type": "execute_result",
          "data": {
            "text/html": [
              "<div>\n",
              "<style scoped>\n",
              "    .dataframe tbody tr th:only-of-type {\n",
              "        vertical-align: middle;\n",
              "    }\n",
              "\n",
              "    .dataframe tbody tr th {\n",
              "        vertical-align: top;\n",
              "    }\n",
              "\n",
              "    .dataframe thead th {\n",
              "        text-align: right;\n",
              "    }\n",
              "</style>\n",
              "<table border=\"1\" class=\"dataframe\">\n",
              "  <thead>\n",
              "    <tr style=\"text-align: right;\">\n",
              "      <th></th>\n",
              "      <th>value</th>\n",
              "    </tr>\n",
              "  </thead>\n",
              "  <tbody>\n",
              "    <tr>\n",
              "      <th>count</th>\n",
              "      <td>6137.000000</td>\n",
              "    </tr>\n",
              "    <tr>\n",
              "      <th>mean</th>\n",
              "      <td>2.228589</td>\n",
              "    </tr>\n",
              "    <tr>\n",
              "      <th>std</th>\n",
              "      <td>3.975321</td>\n",
              "    </tr>\n",
              "    <tr>\n",
              "      <th>min</th>\n",
              "      <td>0.000000</td>\n",
              "    </tr>\n",
              "    <tr>\n",
              "      <th>25%</th>\n",
              "      <td>0.340000</td>\n",
              "    </tr>\n",
              "    <tr>\n",
              "      <th>50%</th>\n",
              "      <td>0.980000</td>\n",
              "    </tr>\n",
              "    <tr>\n",
              "      <th>75%</th>\n",
              "      <td>2.980000</td>\n",
              "    </tr>\n",
              "    <tr>\n",
              "      <th>max</th>\n",
              "      <td>90.950000</td>\n",
              "    </tr>\n",
              "  </tbody>\n",
              "</table>\n",
              "</div>"
            ],
            "text/plain": [
              "             value\n",
              "count  6137.000000\n",
              "mean      2.228589\n",
              "std       3.975321\n",
              "min       0.000000\n",
              "25%       0.340000\n",
              "50%       0.980000\n",
              "75%       2.980000\n",
              "max      90.950000"
            ]
          },
          "metadata": {
            "tags": []
          },
          "execution_count": 52
        }
      ]
    },
    {
      "cell_type": "code",
      "metadata": {
        "id": "VH3Ed4akx9YP",
        "colab": {
          "base_uri": "https://localhost:8080/",
          "height": 478
        },
        "outputId": "853b159e-a978-4bf9-afa0-9c0955976a53"
      },
      "source": [
        "value.hist(figsize=(14,7), bins=100)"
      ],
      "execution_count": null,
      "outputs": [
        {
          "output_type": "execute_result",
          "data": {
            "text/plain": [
              "array([[<matplotlib.axes._subplots.AxesSubplot object at 0x7f5b51280be0>]],\n",
              "      dtype=object)"
            ]
          },
          "metadata": {
            "tags": []
          },
          "execution_count": 65
        },
        {
          "output_type": "display_data",
          "data": {
            "image/png": "[encoded data removed]",
            "text/plain": [
              "<Figure size 1008x504 with 1 Axes>"
            ]
          },
          "metadata": {
            "tags": [],
            "needs_background": "light"
          }
        }
      ]
    },
    {
      "cell_type": "code",
      "metadata": {
        "id": "y7l3j0-w0ato",
        "colab": {
          "base_uri": "https://localhost:8080/",
          "height": 609
        },
        "outputId": "00e569b7-f7c4-46d4-f3b8-dea10619b618"
      },
      "source": [
        "value.boxplot(figsize=(5,10))"
      ],
      "execution_count": null,
      "outputs": [
        {
          "output_type": "execute_result",
          "data": {
            "text/plain": [
              "<matplotlib.axes._subplots.AxesSubplot at 0x7f5b51040ba8>"
            ]
          },
          "metadata": {
            "tags": []
          },
          "execution_count": 68
        },
        {
          "output_type": "display_data",
          "data": {
            "image/png": "[encoded data removed]",
            "text/plain": [
              "<Figure size 360x720 with 1 Axes>"
            ]
          },
          "metadata": {
            "tags": [],
            "needs_background": "light"
          }
        }
      ]
    },
    {
      "cell_type": "markdown",
      "metadata": {
        "id": "rgyapMbQ0S96"
      },
      "source": [
        "Finden Sie in Ihrer Tabelle Edamer\n",
        "(’Cheese, edam’). Hat Edamer einen überdurchschnittlichen Zinkgehalt?"
      ]
    },
    {
      "cell_type": "code",
      "metadata": {
        "id": "c0FSJHmB2CrX"
      },
      "source": [
        "Edam=zink.loc[(zink['description'] == 'Cheese, edam')]"
      ],
      "execution_count": null,
      "outputs": []
    },
    {
      "cell_type": "code",
      "metadata": {
        "id": "FKbD3Ulq2fuk",
        "colab": {
          "base_uri": "https://localhost:8080/",
          "height": 77
        },
        "outputId": "fd643e13-d46a-473c-ccb7-18f139312221"
      },
      "source": [
        "Edam"
      ],
      "execution_count": null,
      "outputs": [
        {
          "output_type": "execute_result",
          "data": {
            "text/html": [
              "<div>\n",
              "<style scoped>\n",
              "    .dataframe tbody tr th:only-of-type {\n",
              "        vertical-align: middle;\n",
              "    }\n",
              "\n",
              "    .dataframe tbody tr th {\n",
              "        vertical-align: top;\n",
              "    }\n",
              "\n",
              "    .dataframe thead th {\n",
              "        text-align: right;\n",
              "    }\n",
              "</style>\n",
              "<table border=\"1\" class=\"dataframe\">\n",
              "  <thead>\n",
              "    <tr style=\"text-align: right;\">\n",
              "      <th></th>\n",
              "      <th>value</th>\n",
              "      <th>units</th>\n",
              "      <th>n_description</th>\n",
              "      <th>n_group</th>\n",
              "      <th>id</th>\n",
              "      <th>description</th>\n",
              "      <th>group</th>\n",
              "      <th>manufacturer</th>\n",
              "    </tr>\n",
              "  </thead>\n",
              "  <tbody>\n",
              "    <tr>\n",
              "      <th>151</th>\n",
              "      <td>3.75</td>\n",
              "      <td>mg</td>\n",
              "      <td>Zinc, Zn</td>\n",
              "      <td>Elements</td>\n",
              "      <td>1018</td>\n",
              "      <td>Cheese, edam</td>\n",
              "      <td>Dairy and Egg Products</td>\n",
              "      <td></td>\n",
              "    </tr>\n",
              "  </tbody>\n",
              "</table>\n",
              "</div>"
            ],
            "text/plain": [
              "     value units  ...                   group manufacturer\n",
              "151   3.75    mg  ...  Dairy and Egg Products             \n",
              "\n",
              "[1 rows x 8 columns]"
            ]
          },
          "metadata": {
            "tags": []
          },
          "execution_count": 76
        }
      ]
    },
    {
      "cell_type": "markdown",
      "metadata": {
        "id": "jpV9YVZm3JME"
      },
      "source": [
        "**Edammer hat einen Zinkgehalt von 3.75 mg, der Durchschnitt ist 2.23 mg.\n",
        "--> Edammer hat einen überdurchschnittlichen Zinkgehalt**"
      ]
    },
    {
      "cell_type": "markdown",
      "metadata": {
        "id": "7y22VO_q3LCA"
      },
      "source": [
        "Haben mehr als 75% aller Nahrungsmittel einen kleineren Zinkgehalt?"
      ]
    },
    {
      "cell_type": "markdown",
      "metadata": {
        "id": "niSKtafj3qko"
      },
      "source": [
        "**75%-Quantil = 2.98 --> Mindestens 75% aller Nahrungsmittel, haben einen niedrigeren Zinkgehalt als Edammer**"
      ]
    },
    {
      "cell_type": "markdown",
      "metadata": {
        "id": "cZi6zT-r3wA3"
      },
      "source": [
        "Welches Nahrungsmittel hat den\n",
        "maximalen Zinkgehalt?"
      ]
    },
    {
      "cell_type": "code",
      "metadata": {
        "id": "MRiL4ayY3EdX",
        "colab": {
          "base_uri": "https://localhost:8080/",
          "height": 168
        },
        "outputId": "48cb1f62-865a-41ed-81e6-92cd01551501"
      },
      "source": [
        "zink.loc[zink['value'].idxmax()]"
      ],
      "execution_count": null,
      "outputs": [
        {
          "output_type": "execute_result",
          "data": {
            "text/plain": [
              "value                                        90.95\n",
              "units                                           mg\n",
              "n_description                             Zinc, Zn\n",
              "n_group                                   Elements\n",
              "id                                           15170\n",
              "description      Mollusks, oyster, eastern, canned\n",
              "group               Finfish and Shellfish Products\n",
              "manufacturer                                      \n",
              "Name: 333726, dtype: object"
            ]
          },
          "metadata": {
            "tags": []
          },
          "execution_count": 80
        }
      ]
    },
    {
      "cell_type": "code",
      "metadata": {
        "id": "9DHSFjEs4BUu",
        "colab": {
          "base_uri": "https://localhost:8080/",
          "height": 77
        },
        "outputId": "03f1096d-1b49-4fa7-e850-d17338aaa159"
      },
      "source": [
        "zink[zink['value']==zink['value'].max()]"
      ],
      "execution_count": null,
      "outputs": [
        {
          "output_type": "execute_result",
          "data": {
            "text/html": [
              "<div>\n",
              "<style scoped>\n",
              "    .dataframe tbody tr th:only-of-type {\n",
              "        vertical-align: middle;\n",
              "    }\n",
              "\n",
              "    .dataframe tbody tr th {\n",
              "        vertical-align: top;\n",
              "    }\n",
              "\n",
              "    .dataframe thead th {\n",
              "        text-align: right;\n",
              "    }\n",
              "</style>\n",
              "<table border=\"1\" class=\"dataframe\">\n",
              "  <thead>\n",
              "    <tr style=\"text-align: right;\">\n",
              "      <th></th>\n",
              "      <th>value</th>\n",
              "      <th>units</th>\n",
              "      <th>n_description</th>\n",
              "      <th>n_group</th>\n",
              "      <th>id</th>\n",
              "      <th>description</th>\n",
              "      <th>group</th>\n",
              "      <th>manufacturer</th>\n",
              "    </tr>\n",
              "  </thead>\n",
              "  <tbody>\n",
              "    <tr>\n",
              "      <th>333726</th>\n",
              "      <td>90.95</td>\n",
              "      <td>mg</td>\n",
              "      <td>Zinc, Zn</td>\n",
              "      <td>Elements</td>\n",
              "      <td>15170</td>\n",
              "      <td>Mollusks, oyster, eastern, canned</td>\n",
              "      <td>Finfish and Shellfish Products</td>\n",
              "      <td></td>\n",
              "    </tr>\n",
              "  </tbody>\n",
              "</table>\n",
              "</div>"
            ],
            "text/plain": [
              "        value units  ...                           group manufacturer\n",
              "333726  90.95    mg  ...  Finfish and Shellfish Products             \n",
              "\n",
              "[1 rows x 8 columns]"
            ]
          },
          "metadata": {
            "tags": []
          },
          "execution_count": 82
        }
      ]
    },
    {
      "cell_type": "markdown",
      "metadata": {
        "id": "YtvSWLEU4fxh"
      },
      "source": [
        "**--> Mollusks, oyster, eastern, canned hat den maximalen Zinkgehalt.**"
      ]
    }
  ]
}